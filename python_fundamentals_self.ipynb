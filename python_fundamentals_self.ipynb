{
 "cells": [
  {
   "cell_type": "markdown",
   "id": "bf1c1fd2-9229-41d8-b8cc-2edcde8645b5",
   "metadata": {},
   "source": [
    "## comments : are used to explain the code\n",
    "- to enhance the readibilty of code\n",
    "- it helps in debugging process "
   ]
  },
  {
   "cell_type": "markdown",
   "id": "9bfd0ba0-182d-4633-9a78-5852408d4701",
   "metadata": {},
   "source": [
    "## there are two types of comments\n",
    "-single\n",
    "-multi line"
   ]
  },
  {
   "cell_type": "code",
   "execution_count": 1,
   "id": "98ffa93e-5d0a-408c-abd3-81bf267fe5fd",
   "metadata": {},
   "outputs": [
    {
     "name": "stdout",
     "output_type": "stream",
     "text": [
      "helo\n"
     ]
    }
   ],
   "source": [
    "print('helo') #this is my first code"
   ]
  },
  {
   "cell_type": "code",
   "execution_count": 2,
   "id": "69df4439-65cb-4207-8d39-c5a5f9f2163d",
   "metadata": {},
   "outputs": [
    {
     "name": "stdout",
     "output_type": "stream",
     "text": [
      "helo\n"
     ]
    }
   ],
   "source": [
    "print(\"helo\")"
   ]
  },
  {
   "cell_type": "markdown",
   "id": "98aca61e-a223-4664-b5c9-65dfd9de0078",
   "metadata": {},
   "source": [
    "## Variables: are the containers which holds the data\n",
    "### How to Define/create the variables?"
   ]
  },
  {
   "cell_type": "code",
   "execution_count": 3,
   "id": "592bc9c6-373d-4b16-a321-28837f54f797",
   "metadata": {},
   "outputs": [],
   "source": [
    "#name_of_variable=value"
   ]
  },
  {
   "cell_type": "code",
   "execution_count": 4,
   "id": "bf51ab25-9cba-448c-843d-ea099be1f3cd",
   "metadata": {},
   "outputs": [],
   "source": [
    "a=90 #a is varibale where 90 is assign to it"
   ]
  },
  {
   "cell_type": "markdown",
   "id": "a108dc18-4ea9-4ca2-b27e-78340c8c3730",
   "metadata": {},
   "source": [
    "## How to access the variable?"
   ]
  },
  {
   "cell_type": "code",
   "execution_count": 5,
   "id": "d189aae0-010d-433b-994f-8210cea1ca02",
   "metadata": {},
   "outputs": [
    {
     "data": {
      "text/plain": [
       "90"
      ]
     },
     "execution_count": 5,
     "metadata": {},
     "output_type": "execute_result"
    }
   ],
   "source": [
    "a"
   ]
  },
  {
   "cell_type": "markdown",
   "id": "75ec51eb-d4d4-4413-bff3-c0bc9b141f55",
   "metadata": {},
   "source": [
    "## scope of variable: defines the area upto which i can access the variable (throughout the file)"
   ]
  },
  {
   "cell_type": "markdown",
   "id": "9d7d2b6a-7212-4b19-9cbc-a2f8d457f2ff",
   "metadata": {},
   "source": [
    "## IDENTIFIERS : are the naming rules for the variables, functions etc.\n",
    "- Rule 1: Begins with alphabets or only once special character is allowed i.e underscore(_).\n",
    "- Rule 2: it can have alphabets, digits, only once special character is allowed i.e underscore(_) anywhere followed by beginning.\n",
    "- Rule 3: it could be of any length.\n",
    "- Rule 4: it is case sensitive.\n",
    "- Rule 5: it should not be a keywords."
   ]
  },
  {
   "cell_type": "markdown",
   "id": "e9caf0b4-8c78-4dc4-bdd2-f8338a8e9935",
   "metadata": {},
   "source": [
    "# Rule 1: Begins with alphabets or only once special character is allowed i.e underscore(_)."
   ]
  },
  {
   "cell_type": "code",
   "execution_count": 6,
   "id": "bea66ed6-437b-45fe-ac1a-cf3290beea82",
   "metadata": {},
   "outputs": [],
   "source": [
    "madrid = 90"
   ]
  },
  {
   "cell_type": "code",
   "execution_count": 7,
   "id": "5789b11e-cbcf-4b44-9c38-24ae95c4c7c9",
   "metadata": {},
   "outputs": [
    {
     "data": {
      "text/plain": [
       "90"
      ]
     },
     "execution_count": 7,
     "metadata": {},
     "output_type": "execute_result"
    }
   ],
   "source": [
    "madrid"
   ]
  },
  {
   "cell_type": "code",
   "execution_count": 8,
   "id": "828790a0-a3a5-4bcc-b70f-b87f5a6ae4ed",
   "metadata": {},
   "outputs": [
    {
     "ename": "SyntaxError",
     "evalue": "cannot assign to expression here. Maybe you meant '==' instead of '='? (709775352.py, line 1)",
     "output_type": "error",
     "traceback": [
      "\u001b[1;36m  Cell \u001b[1;32mIn[8], line 1\u001b[1;36m\u001b[0m\n\u001b[1;33m    madrid@solution = 90\u001b[0m\n\u001b[1;37m    ^\u001b[0m\n\u001b[1;31mSyntaxError\u001b[0m\u001b[1;31m:\u001b[0m cannot assign to expression here. Maybe you meant '==' instead of '='?\n"
     ]
    }
   ],
   "source": [
    "madrid@solution = 90"
   ]
  },
  {
   "cell_type": "code",
   "execution_count": 9,
   "id": "61207efb-2e1b-40b3-893a-a684cd691f41",
   "metadata": {},
   "outputs": [],
   "source": [
    "madrid123 = 69"
   ]
  },
  {
   "cell_type": "code",
   "execution_count": 10,
   "id": "05354439-3d91-41c9-9777-0b54dacf7e10",
   "metadata": {},
   "outputs": [
    {
     "data": {
      "text/plain": [
       "69"
      ]
     },
     "execution_count": 10,
     "metadata": {},
     "output_type": "execute_result"
    }
   ],
   "source": [
    "madrid123"
   ]
  },
  {
   "cell_type": "markdown",
   "id": "a08b27e2-150a-4972-8862-ad7b54477034",
   "metadata": {},
   "source": [
    "# Rule 2: it can have alphabets, digits, only once special character is allowed i.e underscore(_) anywhere followed by beginning."
   ]
  },
  {
   "cell_type": "code",
   "execution_count": 11,
   "id": "f0313fd0-8fc9-4af0-b653-83986adce273",
   "metadata": {},
   "outputs": [],
   "source": [
    "_madrid= 90"
   ]
  },
  {
   "cell_type": "markdown",
   "id": "12809726-0d53-4308-b957-008d97a00e54",
   "metadata": {},
   "source": [
    "# Rule 3: it could be of any length."
   ]
  },
  {
   "cell_type": "code",
   "execution_count": 12,
   "id": "7d2978bf-b158-41ae-9229-75c2154e7aeb",
   "metadata": {},
   "outputs": [],
   "source": [
    "jhbebfbijccncia= 89"
   ]
  },
  {
   "cell_type": "markdown",
   "id": "7fa7d5b6-156c-44cb-ba5b-178602a344e0",
   "metadata": {},
   "source": [
    "# Rule 4: it is case sensitive."
   ]
  },
  {
   "cell_type": "code",
   "execution_count": 13,
   "id": "98d0ad62-544e-4c97-a2d6-46587b148254",
   "metadata": {},
   "outputs": [],
   "source": [
    "madrid = 90"
   ]
  },
  {
   "cell_type": "code",
   "execution_count": 14,
   "id": "53a3f3b9-a30c-4ca2-8c41-46801a0329bb",
   "metadata": {},
   "outputs": [
    {
     "data": {
      "text/plain": [
       "90"
      ]
     },
     "execution_count": 14,
     "metadata": {},
     "output_type": "execute_result"
    }
   ],
   "source": [
    "madrid"
   ]
  },
  {
   "cell_type": "code",
   "execution_count": 15,
   "id": "65a2cb22-ffe1-48c1-92b9-ca75d4a64edb",
   "metadata": {},
   "outputs": [],
   "source": [
    "Madrid = 89"
   ]
  },
  {
   "cell_type": "code",
   "execution_count": 16,
   "id": "ecdab197-ccc2-4eb5-bb67-989cd069e468",
   "metadata": {},
   "outputs": [
    {
     "data": {
      "text/plain": [
       "89"
      ]
     },
     "execution_count": 16,
     "metadata": {},
     "output_type": "execute_result"
    }
   ],
   "source": [
    "Madrid"
   ]
  },
  {
   "cell_type": "markdown",
   "id": "cda382be-db7c-442d-bf0c-e47f0dab579c",
   "metadata": {},
   "source": [
    "# how to access keywords"
   ]
  },
  {
   "cell_type": "code",
   "execution_count": 17,
   "id": "c5e8ed28-9251-45d8-8a91-4ccbede00904",
   "metadata": {},
   "outputs": [
    {
     "name": "stdout",
     "output_type": "stream",
     "text": [
      "['False', 'None', 'True', 'and', 'as', 'assert', 'async', 'await', 'break', 'class', 'continue', 'def', 'del', 'elif', 'else', 'except', 'finally', 'for', 'from', 'global', 'if', 'import', 'in', 'is', 'lambda', 'nonlocal', 'not', 'or', 'pass', 'raise', 'return', 'try', 'while', 'with', 'yield']\n"
     ]
    }
   ],
   "source": [
    "import keyword\n",
    "print(keyword.kwlist)"
   ]
  },
  {
   "cell_type": "code",
   "execution_count": 18,
   "id": "5f7ee2cf-3c61-4304-9242-1cf7d5da8809",
   "metadata": {},
   "outputs": [],
   "source": [
    "# data types :"
   ]
  },
  {
   "cell_type": "code",
   "execution_count": 19,
   "id": "cceec0a2-69ef-444a-ab20-5b64e811928d",
   "metadata": {},
   "outputs": [
    {
     "name": "stdout",
     "output_type": "stream",
     "text": [
      "90\n"
     ]
    },
    {
     "data": {
      "text/plain": [
       "int"
      ]
     },
     "execution_count": 19,
     "metadata": {},
     "output_type": "execute_result"
    }
   ],
   "source": [
    "a = 90\n",
    "print(a)\n",
    "type(a) # type ius in built function which tells the type of data."
   ]
  },
  {
   "cell_type": "code",
   "execution_count": 20,
   "id": "996e785d-9af5-4808-b2b3-6afa3d847451",
   "metadata": {},
   "outputs": [
    {
     "data": {
      "text/plain": [
       "140710070439816"
      ]
     },
     "execution_count": 20,
     "metadata": {},
     "output_type": "execute_result"
    }
   ],
   "source": [
    "# id : id tells the address of variable\n",
    "a = 100\n",
    "id(a)"
   ]
  },
  {
   "cell_type": "code",
   "execution_count": 21,
   "id": "e5071099-2c9e-4e87-aa99-53d552bf8131",
   "metadata": {},
   "outputs": [
    {
     "name": "stdout",
     "output_type": "stream",
     "text": [
      "10.5\n"
     ]
    },
    {
     "data": {
      "text/plain": [
       "float"
      ]
     },
     "execution_count": 21,
     "metadata": {},
     "output_type": "execute_result"
    }
   ],
   "source": [
    "#float : numbert with decimal\n",
    "a=10.5\n",
    "print(a)\n",
    "type(a)"
   ]
  },
  {
   "cell_type": "code",
   "execution_count": 22,
   "id": "aa141492-dc29-4fc4-9471-f31fa98202f2",
   "metadata": {},
   "outputs": [
    {
     "name": "stdout",
     "output_type": "stream",
     "text": [
      "(8+7j)\n"
     ]
    },
    {
     "data": {
      "text/plain": [
       "complex"
      ]
     },
     "execution_count": 22,
     "metadata": {},
     "output_type": "execute_result"
    }
   ],
   "source": [
    "# complex = real + imaginary\n",
    "a=8+7j\n",
    "print(a)\n",
    "type(a)"
   ]
  },
  {
   "cell_type": "code",
   "execution_count": 23,
   "id": "844b9019-1c8e-4166-92d9-b0f46e30f708",
   "metadata": {},
   "outputs": [
    {
     "name": "stdout",
     "output_type": "stream",
     "text": [
      "True\n"
     ]
    },
    {
     "data": {
      "text/plain": [
       "bool"
      ]
     },
     "execution_count": 23,
     "metadata": {},
     "output_type": "execute_result"
    }
   ],
   "source": [
    "# boolean = True or False\n",
    "a = True\n",
    "print(a)\n",
    "type(a)"
   ]
  },
  {
   "cell_type": "code",
   "execution_count": 24,
   "id": "55c48f28-23ee-4c54-bf07-58b9fa3cfc8f",
   "metadata": {},
   "outputs": [
    {
     "name": "stdout",
     "output_type": "stream",
     "text": [
      "False\n"
     ]
    },
    {
     "data": {
      "text/plain": [
       "bool"
      ]
     },
     "execution_count": 24,
     "metadata": {},
     "output_type": "execute_result"
    }
   ],
   "source": [
    "b = False\n",
    "print(b)\n",
    "type(b)"
   ]
  },
  {
   "cell_type": "markdown",
   "id": "78512261-8b5e-4384-b8eb-181b4e429a42",
   "metadata": {},
   "source": [
    "# string: textual data \n",
    "## How to create a string?\n",
    "- using single quotes\n",
    "- using double quotes\n",
    "- using three triple quotes"
   ]
  },
  {
   "cell_type": "code",
   "execution_count": 25,
   "id": "dc567ece-2feb-48c1-b3e8-2e3c8e23aa20",
   "metadata": {},
   "outputs": [
    {
     "name": "stdout",
     "output_type": "stream",
     "text": [
      "ritik\n",
      "<class 'str'>\n"
     ]
    }
   ],
   "source": [
    "s = 'ritik'\n",
    "print(s)\n",
    "print(type(s))"
   ]
  },
  {
   "cell_type": "code",
   "execution_count": 26,
   "id": "6e08fed4-6da4-4da8-8b36-8bf44dd3f52e",
   "metadata": {},
   "outputs": [
    {
     "ename": "NameError",
     "evalue": "name 'devender' is not defined",
     "output_type": "error",
     "traceback": [
      "\u001b[1;31m---------------------------------------------------------------------------\u001b[0m",
      "\u001b[1;31mNameError\u001b[0m                                 Traceback (most recent call last)",
      "Cell \u001b[1;32mIn[26], line 1\u001b[0m\n\u001b[1;32m----> 1\u001b[0m s \u001b[38;5;241m=\u001b[39m devender\n\u001b[0;32m      2\u001b[0m \u001b[38;5;28mprint\u001b[39m(s)\n\u001b[0;32m      3\u001b[0m \u001b[38;5;28mtype\u001b[39m(s)\n",
      "\u001b[1;31mNameError\u001b[0m: name 'devender' is not defined"
     ]
    }
   ],
   "source": [
    "s = devender\n",
    "print(s)\n",
    "type(s)"
   ]
  },
  {
   "cell_type": "code",
   "execution_count": 27,
   "id": "6881808c-491f-4465-8c27-02de72482550",
   "metadata": {},
   "outputs": [
    {
     "name": "stdout",
     "output_type": "stream",
     "text": [
      "himanshu\n"
     ]
    }
   ],
   "source": [
    "s =\"himanshu\"\n",
    "print(s)"
   ]
  },
  {
   "cell_type": "code",
   "execution_count": 28,
   "id": "a06676a9-eb3f-4000-a644-7cc7d0b91fb9",
   "metadata": {},
   "outputs": [
    {
     "name": "stdout",
     "output_type": "stream",
     "text": [
      "wnnonnan\n",
      "bakncann\n"
     ]
    }
   ],
   "source": [
    "s = '''wnnonnan\n",
    "bakncann'''\n",
    "print(s)"
   ]
  },
  {
   "cell_type": "code",
   "execution_count": 29,
   "id": "927563e7-56b0-42a7-81df-91eb355b5516",
   "metadata": {},
   "outputs": [],
   "source": [
    "# note: anything comes under quotes i.e my string"
   ]
  },
  {
   "cell_type": "code",
   "execution_count": 30,
   "id": "8634349b-a822-4728-8b59-6e5fd305fbad",
   "metadata": {},
   "outputs": [
    {
     "name": "stdout",
     "output_type": "stream",
     "text": [
      "ritik@234\n"
     ]
    }
   ],
   "source": [
    "s = 'ritik@234'\n",
    "print(s)"
   ]
  },
  {
   "cell_type": "code",
   "execution_count": 31,
   "id": "2fcc29cb-19d8-41e5-9ccd-7813fcdbf0f3",
   "metadata": {},
   "outputs": [
    {
     "name": "stdout",
     "output_type": "stream",
     "text": [
      "1234\n"
     ]
    }
   ],
   "source": [
    "a = '1234'\n",
    "print(a)"
   ]
  },
  {
   "cell_type": "code",
   "execution_count": 32,
   "id": "b26b4695-becb-4ee8-bb7d-862d673b6ea3",
   "metadata": {},
   "outputs": [
    {
     "name": "stdout",
     "output_type": "stream",
     "text": [
      "hi how'r u\n"
     ]
    }
   ],
   "source": [
    "a= \"hi how'r u\"\n",
    "print(a)"
   ]
  },
  {
   "cell_type": "code",
   "execution_count": 33,
   "id": "3775f047-ee6b-46a3-909e-212b5e3d7497",
   "metadata": {},
   "outputs": [],
   "source": [
    "# list : list is used for multiple data "
   ]
  },
  {
   "cell_type": "code",
   "execution_count": 34,
   "id": "7856be4f-de56-42b3-bb0f-199310ab2ea5",
   "metadata": {},
   "outputs": [
    {
     "name": "stdout",
     "output_type": "stream",
     "text": [
      "['mohit', 90, 'ds', 'male', 67.8]\n"
     ]
    },
    {
     "data": {
      "text/plain": [
       "list"
      ]
     },
     "execution_count": 34,
     "metadata": {},
     "output_type": "execute_result"
    }
   ],
   "source": [
    "student= [\"mohit\",90,\"ds\",\"male\",67.8] #heterogenous\n",
    "print(student)\n",
    "type(student)"
   ]
  },
  {
   "cell_type": "code",
   "execution_count": 35,
   "id": "558bb833-eb36-4a56-9a3b-3db45795d40f",
   "metadata": {},
   "outputs": [
    {
     "name": "stdout",
     "output_type": "stream",
     "text": [
      "['mohit', 90, 'ds', 'male', 67.8]\n"
     ]
    },
    {
     "data": {
      "text/plain": [
       "list"
      ]
     },
     "execution_count": 35,
     "metadata": {},
     "output_type": "execute_result"
    }
   ],
   "source": [
    "marks= [90,5,76,67.8] #homogenous\n",
    "print(student)\n",
    "type(student)"
   ]
  },
  {
   "cell_type": "code",
   "execution_count": 36,
   "id": "8d3fac7c-47b6-452a-a3d0-3aeab876a373",
   "metadata": {},
   "outputs": [
    {
     "name": "stdout",
     "output_type": "stream",
     "text": [
      "('mohit', 90, 'ds', 'male', 67.8)\n"
     ]
    },
    {
     "data": {
      "text/plain": [
       "tuple"
      ]
     },
     "execution_count": 36,
     "metadata": {},
     "output_type": "execute_result"
    }
   ],
   "source": [
    "#tuple : exactally same as list\n",
    "student= (\"mohit\",90,\"ds\",\"male\",67.8) #heterogenous\n",
    "print(student)\n",
    "type(student)"
   ]
  },
  {
   "cell_type": "code",
   "execution_count": 37,
   "id": "7b2e99c8-770b-4596-a0fd-5895fbc3dd9e",
   "metadata": {},
   "outputs": [],
   "source": [
    "#set, dict:skip"
   ]
  },
  {
   "cell_type": "markdown",
   "id": "47c9109e-e088-4cf5-8f2e-5251b3e0c1b2",
   "metadata": {},
   "source": [
    "# Type Casting: type conversion"
   ]
  },
  {
   "cell_type": "markdown",
   "id": "b324ea9f-ac08-4bb9-91a4-361dfbc797d3",
   "metadata": {},
   "source": [
    "## int to str"
   ]
  },
  {
   "cell_type": "code",
   "execution_count": 38,
   "id": "4649c213-7e44-4ee2-b96a-9491064d4374",
   "metadata": {},
   "outputs": [
    {
     "name": "stdout",
     "output_type": "stream",
     "text": [
      "90\n",
      "<class 'int'>\n",
      "90\n",
      "<class 'str'>\n"
     ]
    }
   ],
   "source": [
    "a=90\n",
    "print(a)\n",
    "print(type(a))\n",
    "a1 = str (a)\n",
    "print(a1)\n",
    "print(type(a1))"
   ]
  },
  {
   "cell_type": "markdown",
   "id": "de769fa2-7095-4008-982f-b7a19463e93d",
   "metadata": {},
   "source": [
    "## int to float"
   ]
  },
  {
   "cell_type": "code",
   "execution_count": 39,
   "id": "14c525d4-c628-478f-a986-33cb46e7c810",
   "metadata": {},
   "outputs": [
    {
     "name": "stdout",
     "output_type": "stream",
     "text": [
      "90\n",
      "<class 'int'>\n",
      "90.0\n",
      "<class 'float'>\n"
     ]
    }
   ],
   "source": [
    "a=90\n",
    "print(a)\n",
    "print(type(a))\n",
    "a1 = float(a)\n",
    "print(a1)\n",
    "print(type(a1))"
   ]
  },
  {
   "cell_type": "markdown",
   "id": "8861e2e8-3f1d-4e9b-ab42-baa5ddcad5c4",
   "metadata": {},
   "source": [
    "## str to int"
   ]
  },
  {
   "cell_type": "code",
   "execution_count": 40,
   "id": "c586a86d-e366-4bcb-8fd9-b9b173682ff6",
   "metadata": {},
   "outputs": [
    {
     "name": "stdout",
     "output_type": "stream",
     "text": [
      "90\n",
      "<class 'str'>\n",
      "90\n",
      "<class 'int'>\n"
     ]
    }
   ],
   "source": [
    "a=\"90\"\n",
    "print(a)\n",
    "print(type(a))\n",
    "a1 = int(a)\n",
    "print(a1)\n",
    "print(type(a1))"
   ]
  },
  {
   "cell_type": "markdown",
   "id": "4bcc2b1d-5959-4321-8f09-675f3e11755c",
   "metadata": {},
   "source": [
    "## str to float"
   ]
  },
  {
   "cell_type": "code",
   "execution_count": 41,
   "id": "436ad016-43d8-4593-a8ec-0d6c50f44bbc",
   "metadata": {},
   "outputs": [
    {
     "name": "stdout",
     "output_type": "stream",
     "text": [
      "90.567\n",
      "<class 'str'>\n",
      "90.567\n",
      "<class 'float'>\n"
     ]
    }
   ],
   "source": [
    "a=\"90.567\"\n",
    "print(a)\n",
    "print(type(a))\n",
    "a1 = float(a)\n",
    "print(a1)\n",
    "print(type(a1))"
   ]
  },
  {
   "cell_type": "code",
   "execution_count": 42,
   "id": "4f606c0d-7592-46a7-ab4b-553293794030",
   "metadata": {},
   "outputs": [
    {
     "name": "stdout",
     "output_type": "stream",
     "text": [
      "90.567\n",
      "<class 'str'>\n"
     ]
    },
    {
     "ename": "ValueError",
     "evalue": "invalid literal for int() with base 10: '90.567'",
     "output_type": "error",
     "traceback": [
      "\u001b[1;31m---------------------------------------------------------------------------\u001b[0m",
      "\u001b[1;31mValueError\u001b[0m                                Traceback (most recent call last)",
      "Cell \u001b[1;32mIn[42], line 4\u001b[0m\n\u001b[0;32m      2\u001b[0m \u001b[38;5;28mprint\u001b[39m(a)\n\u001b[0;32m      3\u001b[0m \u001b[38;5;28mprint\u001b[39m(\u001b[38;5;28mtype\u001b[39m(a))\n\u001b[1;32m----> 4\u001b[0m a1 \u001b[38;5;241m=\u001b[39m \u001b[38;5;28mint\u001b[39m(a)\n\u001b[0;32m      5\u001b[0m \u001b[38;5;28mprint\u001b[39m(a1)\n\u001b[0;32m      6\u001b[0m \u001b[38;5;28mprint\u001b[39m(\u001b[38;5;28mtype\u001b[39m(a1))\n",
      "\u001b[1;31mValueError\u001b[0m: invalid literal for int() with base 10: '90.567'"
     ]
    }
   ],
   "source": [
    "a=\"90.567\"     #str to int (it requires double conversion) \n",
    "print(a)\n",
    "print(type(a))\n",
    "a1 = int(a)\n",
    "print(a1)\n",
    "print(type(a1))"
   ]
  },
  {
   "cell_type": "code",
   "execution_count": 43,
   "id": "b7252661-0ebf-4b97-9750-7109458bf999",
   "metadata": {},
   "outputs": [
    {
     "name": "stdout",
     "output_type": "stream",
     "text": [
      "90.567\n",
      "<class 'str'>\n",
      "90\n",
      "<class 'int'>\n"
     ]
    }
   ],
   "source": [
    "a=\"90.567\"\n",
    "print(a)\n",
    "print(type(a))\n",
    "a1 = float(a)\n",
    "a2 = int(a1)\n",
    "print(a2)\n",
    "print(type(a2))"
   ]
  },
  {
   "cell_type": "code",
   "execution_count": 44,
   "id": "08c33e78-91a7-488a-a75f-7dcf37e1c075",
   "metadata": {},
   "outputs": [
    {
     "name": "stdout",
     "output_type": "stream",
     "text": [
      "hello\n",
      "<class 'str'>\n"
     ]
    },
    {
     "ename": "ValueError",
     "evalue": "invalid literal for int() with base 10: 'hello'",
     "output_type": "error",
     "traceback": [
      "\u001b[1;31m---------------------------------------------------------------------------\u001b[0m",
      "\u001b[1;31mValueError\u001b[0m                                Traceback (most recent call last)",
      "Cell \u001b[1;32mIn[44], line 4\u001b[0m\n\u001b[0;32m      2\u001b[0m \u001b[38;5;28mprint\u001b[39m(a)\n\u001b[0;32m      3\u001b[0m \u001b[38;5;28mprint\u001b[39m(\u001b[38;5;28mtype\u001b[39m(a))\n\u001b[1;32m----> 4\u001b[0m a1 \u001b[38;5;241m=\u001b[39m \u001b[38;5;28mint\u001b[39m(a)\n\u001b[0;32m      5\u001b[0m \u001b[38;5;28mprint\u001b[39m(a1)\n\u001b[0;32m      6\u001b[0m \u001b[38;5;28mprint\u001b[39m(\u001b[38;5;28mtype\u001b[39m(a1))\n",
      "\u001b[1;31mValueError\u001b[0m: invalid literal for int() with base 10: 'hello'"
     ]
    }
   ],
   "source": [
    "a=\"hello\"     \n",
    "print(a)\n",
    "print(type(a))\n",
    "a1 = int(a)\n",
    "print(a1)\n",
    "print(type(a1))"
   ]
  },
  {
   "cell_type": "code",
   "execution_count": 45,
   "id": "85cd2404-c003-4690-891b-f58626aa3930",
   "metadata": {},
   "outputs": [
    {
     "name": "stdout",
     "output_type": "stream",
     "text": [
      "hello\n",
      "<class 'str'>\n"
     ]
    },
    {
     "ename": "ValueError",
     "evalue": "could not convert string to float: 'hello'",
     "output_type": "error",
     "traceback": [
      "\u001b[1;31m---------------------------------------------------------------------------\u001b[0m",
      "\u001b[1;31mValueError\u001b[0m                                Traceback (most recent call last)",
      "Cell \u001b[1;32mIn[45], line 4\u001b[0m\n\u001b[0;32m      2\u001b[0m \u001b[38;5;28mprint\u001b[39m(a)\n\u001b[0;32m      3\u001b[0m \u001b[38;5;28mprint\u001b[39m(\u001b[38;5;28mtype\u001b[39m(a))\n\u001b[1;32m----> 4\u001b[0m a1 \u001b[38;5;241m=\u001b[39m \u001b[38;5;28mfloat\u001b[39m(a)\n\u001b[0;32m      5\u001b[0m \u001b[38;5;28mprint\u001b[39m(a1)\n\u001b[0;32m      6\u001b[0m \u001b[38;5;28mprint\u001b[39m(\u001b[38;5;28mtype\u001b[39m(a1))\n",
      "\u001b[1;31mValueError\u001b[0m: could not convert string to float: 'hello'"
     ]
    }
   ],
   "source": [
    "a=\"hello\"    \n",
    "print(a)\n",
    "print(type(a))\n",
    "a1 = float(a)\n",
    "print(a1)\n",
    "print(type(a1))"
   ]
  },
  {
   "cell_type": "markdown",
   "id": "db36f8da-fb27-4a9d-9165-0556a10c19de",
   "metadata": {},
   "source": [
    "## float to int"
   ]
  },
  {
   "cell_type": "code",
   "execution_count": 46,
   "id": "eb7aa116-30f8-49c8-bdef-d36e5e1136f1",
   "metadata": {},
   "outputs": [
    {
     "name": "stdout",
     "output_type": "stream",
     "text": [
      "9.56\n",
      "<class 'float'>\n",
      "<class 'int'>\n"
     ]
    },
    {
     "data": {
      "text/plain": [
       "9"
      ]
     },
     "execution_count": 46,
     "metadata": {},
     "output_type": "execute_result"
    }
   ],
   "source": [
    "a=9.56   \n",
    "print(a)\n",
    "print(type(a))\n",
    "a1 = int(a)\n",
    "#print(a1)\n",
    "print(type(a1))\n",
    "a1"
   ]
  },
  {
   "cell_type": "markdown",
   "id": "ea80f87e-cd28-474b-8795-bd09a659912c",
   "metadata": {},
   "source": [
    "## float to str"
   ]
  },
  {
   "cell_type": "code",
   "execution_count": 47,
   "id": "e921842f-b005-4d05-9d23-619f2430ae56",
   "metadata": {},
   "outputs": [
    {
     "name": "stdout",
     "output_type": "stream",
     "text": [
      "9.56\n",
      "<class 'float'>\n",
      "<class 'str'>\n"
     ]
    },
    {
     "data": {
      "text/plain": [
       "'9.56'"
      ]
     },
     "execution_count": 47,
     "metadata": {},
     "output_type": "execute_result"
    }
   ],
   "source": [
    "a=9.56   \n",
    "print(a)\n",
    "print(type(a))\n",
    "a1 = str(a)\n",
    "#print(a1)\n",
    "print(type(a1))\n",
    "a1"
   ]
  },
  {
   "cell_type": "markdown",
   "id": "25e8210a-28ab-4347-9fd3-f78b8e55a690",
   "metadata": {},
   "source": [
    "## int to bool"
   ]
  },
  {
   "cell_type": "code",
   "execution_count": 48,
   "id": "9d5291f3-e1a3-47ac-8e9d-ac550e478706",
   "metadata": {},
   "outputs": [
    {
     "name": "stdout",
     "output_type": "stream",
     "text": [
      "100\n",
      "<class 'int'>\n",
      "<class 'bool'>\n"
     ]
    },
    {
     "data": {
      "text/plain": [
       "True"
      ]
     },
     "execution_count": 48,
     "metadata": {},
     "output_type": "execute_result"
    }
   ],
   "source": [
    "a=100   \n",
    "print(a)\n",
    "print(type(a))\n",
    "a1 = bool(a)\n",
    "#print(a1)\n",
    "print(type(a1))\n",
    "a1"
   ]
  },
  {
   "cell_type": "code",
   "execution_count": 49,
   "id": "fe5e9903-b3db-466a-a5d2-cdfdcf32381c",
   "metadata": {},
   "outputs": [],
   "source": [
    "# Note: any positive or negative integer is treated as true and zero (0) is traeted as False."
   ]
  },
  {
   "cell_type": "code",
   "execution_count": 50,
   "id": "1d13eb65-e84b-4d6c-bd1e-71b6e1f68201",
   "metadata": {},
   "outputs": [
    {
     "name": "stdout",
     "output_type": "stream",
     "text": [
      "-100\n",
      "<class 'int'>\n",
      "<class 'bool'>\n"
     ]
    },
    {
     "data": {
      "text/plain": [
       "True"
      ]
     },
     "execution_count": 50,
     "metadata": {},
     "output_type": "execute_result"
    }
   ],
   "source": [
    "a=-100   \n",
    "print(a)\n",
    "print(type(a))\n",
    "a1 = bool(a)\n",
    "#print(a1)\n",
    "print(type(a1))\n",
    "a1"
   ]
  },
  {
   "cell_type": "code",
   "execution_count": 51,
   "id": "946eb722-892c-460e-84f9-f289038ba2e3",
   "metadata": {},
   "outputs": [
    {
     "name": "stdout",
     "output_type": "stream",
     "text": [
      "0\n",
      "<class 'int'>\n",
      "<class 'bool'>\n"
     ]
    },
    {
     "data": {
      "text/plain": [
       "False"
      ]
     },
     "execution_count": 51,
     "metadata": {},
     "output_type": "execute_result"
    }
   ],
   "source": [
    "a=0   \n",
    "print(a)\n",
    "print(type(a))\n",
    "a1 = bool(a)\n",
    "#print(a1)\n",
    "print(type(a1))\n",
    "a1"
   ]
  },
  {
   "cell_type": "markdown",
   "id": "1159c6a7-0e14-4daf-86df-8ffd585ee036",
   "metadata": {},
   "source": [
    "## bool to int"
   ]
  },
  {
   "cell_type": "code",
   "execution_count": 52,
   "id": "73a26057-a709-4ce5-a854-baea6cc96645",
   "metadata": {},
   "outputs": [
    {
     "name": "stdout",
     "output_type": "stream",
     "text": [
      "True\n",
      "<class 'bool'>\n",
      "<class 'int'>\n"
     ]
    },
    {
     "data": {
      "text/plain": [
       "1"
      ]
     },
     "execution_count": 52,
     "metadata": {},
     "output_type": "execute_result"
    }
   ],
   "source": [
    "a=True   \n",
    "print(a)\n",
    "print(type(a))\n",
    "a1 = int(a)\n",
    "#print(a1)\n",
    "print(type(a1))\n",
    "a1"
   ]
  },
  {
   "cell_type": "code",
   "execution_count": 53,
   "id": "e475ae7e-0a0a-4c75-be58-8439ee4caee3",
   "metadata": {},
   "outputs": [
    {
     "name": "stdout",
     "output_type": "stream",
     "text": [
      "False\n",
      "<class 'bool'>\n",
      "<class 'int'>\n"
     ]
    },
    {
     "data": {
      "text/plain": [
       "0"
      ]
     },
     "execution_count": 53,
     "metadata": {},
     "output_type": "execute_result"
    }
   ],
   "source": [
    "a=False   \n",
    "print(a)\n",
    "print(type(a))\n",
    "a1 = int(a)\n",
    "#print(a1)\n",
    "print(type(a1))\n",
    "a1"
   ]
  },
  {
   "cell_type": "markdown",
   "id": "4759facb-6edb-4677-9007-5534161815d8",
   "metadata": {},
   "source": [
    "## float to bool: same as int to bool"
   ]
  },
  {
   "cell_type": "markdown",
   "id": "b66b005f-5ea1-4c7d-975c-a253d6c9038c",
   "metadata": {},
   "source": [
    "## bool to float"
   ]
  },
  {
   "cell_type": "code",
   "execution_count": 54,
   "id": "0b19baf7-b74f-40d5-853d-acae0743c76f",
   "metadata": {},
   "outputs": [
    {
     "name": "stdout",
     "output_type": "stream",
     "text": [
      "True\n",
      "<class 'bool'>\n",
      "<class 'float'>\n"
     ]
    },
    {
     "data": {
      "text/plain": [
       "1.0"
      ]
     },
     "execution_count": 54,
     "metadata": {},
     "output_type": "execute_result"
    }
   ],
   "source": [
    "a=True   \n",
    "print(a)\n",
    "print(type(a))\n",
    "a1 = float(a)\n",
    "#print(a1)\n",
    "print(type(a1))\n",
    "a1"
   ]
  },
  {
   "cell_type": "code",
   "execution_count": 55,
   "id": "19816512-ea53-4d9f-a829-fa5cc220d1d2",
   "metadata": {},
   "outputs": [
    {
     "name": "stdout",
     "output_type": "stream",
     "text": [
      "False\n",
      "<class 'bool'>\n",
      "<class 'float'>\n"
     ]
    },
    {
     "data": {
      "text/plain": [
       "0.0"
      ]
     },
     "execution_count": 55,
     "metadata": {},
     "output_type": "execute_result"
    }
   ],
   "source": [
    "a=False   \n",
    "print(a)\n",
    "print(type(a))\n",
    "a1 = float(a)\n",
    "#print(a1)\n",
    "print(type(a1))\n",
    "a1"
   ]
  },
  {
   "cell_type": "markdown",
   "id": "d15691b0-904b-4050-8d23-370261061cbd",
   "metadata": {},
   "source": [
    "## bool to string"
   ]
  },
  {
   "cell_type": "code",
   "execution_count": 56,
   "id": "27d99029-3a9a-44db-98fe-3bdef6151254",
   "metadata": {},
   "outputs": [
    {
     "name": "stdout",
     "output_type": "stream",
     "text": [
      "True\n",
      "<class 'bool'>\n",
      "<class 'str'>\n"
     ]
    },
    {
     "data": {
      "text/plain": [
       "'True'"
      ]
     },
     "execution_count": 56,
     "metadata": {},
     "output_type": "execute_result"
    }
   ],
   "source": [
    "a=True   \n",
    "print(a)\n",
    "print(type(a))\n",
    "a1 = str(a)\n",
    "#print(a1)\n",
    "print(type(a1))\n",
    "a1"
   ]
  },
  {
   "cell_type": "code",
   "execution_count": 57,
   "id": "3d4b01d3-e973-44b9-8bd6-f6996ea84dae",
   "metadata": {},
   "outputs": [
    {
     "name": "stdout",
     "output_type": "stream",
     "text": [
      "False\n",
      "<class 'bool'>\n",
      "<class 'str'>\n"
     ]
    },
    {
     "data": {
      "text/plain": [
       "'False'"
      ]
     },
     "execution_count": 57,
     "metadata": {},
     "output_type": "execute_result"
    }
   ],
   "source": [
    "a=False   \n",
    "print(a)\n",
    "print(type(a))\n",
    "a1 = str(a)\n",
    "#print(a1)\n",
    "print(type(a1))\n",
    "a1"
   ]
  },
  {
   "cell_type": "markdown",
   "id": "4a744fa2-f8f2-4188-8d40-11b13007459b",
   "metadata": {},
   "source": [
    "## str to bool"
   ]
  },
  {
   "cell_type": "code",
   "execution_count": 58,
   "id": "973befd6-a7bf-4aaf-b084-878780c99d7c",
   "metadata": {},
   "outputs": [
    {
     "name": "stdout",
     "output_type": "stream",
     "text": [
      "happy\n",
      "<class 'str'>\n",
      "<class 'bool'>\n"
     ]
    },
    {
     "data": {
      "text/plain": [
       "True"
      ]
     },
     "execution_count": 58,
     "metadata": {},
     "output_type": "execute_result"
    }
   ],
   "source": [
    "a=\"happy\"  \n",
    "print(a)\n",
    "print(type(a))\n",
    "a1 = bool(a)\n",
    "#print(a1)\n",
    "print(type(a1))\n",
    "a1"
   ]
  },
  {
   "cell_type": "code",
   "execution_count": 59,
   "id": "55fdcac8-9590-4892-863a-5d54c77ce7c6",
   "metadata": {},
   "outputs": [],
   "source": [
    "# note : any non-empty string is treated as true and empty string as False."
   ]
  },
  {
   "cell_type": "markdown",
   "id": "2a852619-4268-46fe-9bcd-36423d20d4f2",
   "metadata": {},
   "source": [
    "## str to list"
   ]
  },
  {
   "cell_type": "code",
   "execution_count": 60,
   "id": "9df41947-5b87-4f95-919e-67cd106f24d1",
   "metadata": {},
   "outputs": [
    {
     "name": "stdout",
     "output_type": "stream",
     "text": [
      "happy\n",
      "<class 'str'>\n",
      "<class 'list'>\n"
     ]
    },
    {
     "data": {
      "text/plain": [
       "['h', 'a', 'p', 'p', 'y']"
      ]
     },
     "execution_count": 60,
     "metadata": {},
     "output_type": "execute_result"
    }
   ],
   "source": [
    "a=\"happy\"  \n",
    "print(a)\n",
    "print(type(a))\n",
    "a1 = list(a)\n",
    "#print(a1)\n",
    "print(type(a1))\n",
    "a1"
   ]
  },
  {
   "cell_type": "markdown",
   "id": "882a4e8d-154e-46f8-8487-2554b030daeb",
   "metadata": {},
   "source": [
    "## list to string"
   ]
  },
  {
   "cell_type": "code",
   "execution_count": 61,
   "id": "0d5b2365-5fb0-4bcb-9787-0957aba59cb3",
   "metadata": {},
   "outputs": [
    {
     "name": "stdout",
     "output_type": "stream",
     "text": [
      "['s', 'a', 'd']\n",
      "<class 'list'>\n",
      "<class 'str'>\n"
     ]
    },
    {
     "data": {
      "text/plain": [
       "\"['s', 'a', 'd']\""
      ]
     },
     "execution_count": 61,
     "metadata": {},
     "output_type": "execute_result"
    }
   ],
   "source": [
    "a=[\"s\",\"a\",\"d\"]\n",
    "print(a)\n",
    "print(type(a))\n",
    "a1 = str(a)\n",
    "#print(a1)\n",
    "print(type(a1))\n",
    "a1"
   ]
  },
  {
   "cell_type": "code",
   "execution_count": 62,
   "id": "449cd651-e08a-41b3-9a89-28870c9d2373",
   "metadata": {},
   "outputs": [
    {
     "data": {
      "text/plain": [
       "15"
      ]
     },
     "execution_count": 62,
     "metadata": {},
     "output_type": "execute_result"
    }
   ],
   "source": [
    "len(a1)"
   ]
  },
  {
   "cell_type": "markdown",
   "id": "bd2b7e7c-9e28-4419-a41a-bf1f622b0d6f",
   "metadata": {},
   "source": [
    "## list to tuple"
   ]
  },
  {
   "cell_type": "code",
   "execution_count": 63,
   "id": "c969e523-618e-4a0a-b7db-61a6f961a0e3",
   "metadata": {},
   "outputs": [
    {
     "name": "stdout",
     "output_type": "stream",
     "text": [
      "['s', 'a', 'd']\n",
      "<class 'list'>\n",
      "<class 'tuple'>\n"
     ]
    },
    {
     "data": {
      "text/plain": [
       "('s', 'a', 'd')"
      ]
     },
     "execution_count": 63,
     "metadata": {},
     "output_type": "execute_result"
    }
   ],
   "source": [
    "a=[\"s\",\"a\",\"d\"] \n",
    "print(a)\n",
    "print(type(a))\n",
    "a1 = tuple(a)\n",
    "#print(a1)\n",
    "print(type(a1))\n",
    "a1"
   ]
  },
  {
   "cell_type": "markdown",
   "id": "6fb620a2-7d1c-4d1c-87ad-4a558c99457d",
   "metadata": {},
   "source": [
    "## tuple to list"
   ]
  },
  {
   "cell_type": "code",
   "execution_count": 64,
   "id": "3d6f065a-c1a7-485b-a43f-86530c053c13",
   "metadata": {},
   "outputs": [
    {
     "name": "stdout",
     "output_type": "stream",
     "text": [
      "('s', 'a', 'd')\n",
      "<class 'tuple'>\n",
      "<class 'list'>\n"
     ]
    },
    {
     "data": {
      "text/plain": [
       "['s', 'a', 'd']"
      ]
     },
     "execution_count": 64,
     "metadata": {},
     "output_type": "execute_result"
    }
   ],
   "source": [
    "a=(\"s\",\"a\",\"d\")\n",
    "print(a)\n",
    "print(type(a))\n",
    "a1 = list(a)\n",
    "#print(a1)\n",
    "print(type(a1))\n",
    "a1"
   ]
  },
  {
   "cell_type": "markdown",
   "id": "2ee5da69-c096-420b-ab4a-677e9b80ec61",
   "metadata": {},
   "source": [
    "## input and output"
   ]
  },
  {
   "cell_type": "markdown",
   "id": "cea4cb90-795b-4a02-8412-7306c732a51c",
   "metadata": {},
   "source": [
    "- input"
   ]
  },
  {
   "cell_type": "code",
   "execution_count": 65,
   "id": "8e275f3a-3d08-4564-96cf-a5c19c3c40bc",
   "metadata": {},
   "outputs": [
    {
     "name": "stdin",
     "output_type": "stream",
     "text": [
      " 9\n"
     ]
    },
    {
     "data": {
      "text/plain": [
       "'9'"
      ]
     },
     "execution_count": 65,
     "metadata": {},
     "output_type": "execute_result"
    }
   ],
   "source": [
    "input()"
   ]
  },
  {
   "cell_type": "code",
   "execution_count": 66,
   "id": "2561870c-5b0b-431e-b59f-d5a184deecea",
   "metadata": {},
   "outputs": [
    {
     "name": "stdin",
     "output_type": "stream",
     "text": [
      " Ritik\n"
     ]
    }
   ],
   "source": [
    "a = input()"
   ]
  },
  {
   "cell_type": "code",
   "execution_count": 67,
   "id": "02a6ccc6-d282-41db-8748-6c4101622257",
   "metadata": {},
   "outputs": [
    {
     "data": {
      "text/plain": [
       "'Ritik'"
      ]
     },
     "execution_count": 67,
     "metadata": {},
     "output_type": "execute_result"
    }
   ],
   "source": [
    "a"
   ]
  },
  {
   "cell_type": "code",
   "execution_count": 68,
   "id": "dcd72125-5eaa-4bd2-8f4f-9f404e8360da",
   "metadata": {},
   "outputs": [],
   "source": [
    "# note: input() interprets input in string"
   ]
  },
  {
   "cell_type": "code",
   "execution_count": 69,
   "id": "21235443-6cdf-498a-9ba3-c22fa138fd1d",
   "metadata": {},
   "outputs": [],
   "source": [
    "# task: double the value given by user"
   ]
  },
  {
   "cell_type": "code",
   "execution_count": 70,
   "id": "025f2933-9f48-4538-80ed-f1721fb91905",
   "metadata": {},
   "outputs": [
    {
     "name": "stdin",
     "output_type": "stream",
     "text": [
      "enter your num 5\n"
     ]
    },
    {
     "data": {
      "text/plain": [
       "10"
      ]
     },
     "execution_count": 70,
     "metadata": {},
     "output_type": "execute_result"
    }
   ],
   "source": [
    "a= int(input(\"enter your num\"))\n",
    "a*2"
   ]
  },
  {
   "cell_type": "markdown",
   "id": "7d698110-c402-4319-ba5a-8edb568398a3",
   "metadata": {},
   "source": [
    "# Output: print()\n",
    "print single value of any type"
   ]
  },
  {
   "cell_type": "code",
   "execution_count": 72,
   "id": "ba162641-8d0b-43d7-99b7-d4f06a5e6c69",
   "metadata": {},
   "outputs": [
    {
     "name": "stdout",
     "output_type": "stream",
     "text": [
      "ritik\n"
     ]
    }
   ],
   "source": [
    "print(\"ritik\")"
   ]
  },
  {
   "cell_type": "markdown",
   "id": "e223b1dc-7a16-464b-9b55-70dc5b1967a6",
   "metadata": {},
   "source": [
    "print multiple values"
   ]
  },
  {
   "cell_type": "code",
   "execution_count": 73,
   "id": "65faee05-c1a5-440e-95cf-5df0bc9adae4",
   "metadata": {},
   "outputs": [
    {
     "name": "stdout",
     "output_type": "stream",
     "text": [
      "ritik 7\n"
     ]
    }
   ],
   "source": [
    "print(\"ritik\", 7)"
   ]
  },
  {
   "cell_type": "code",
   "execution_count": 76,
   "id": "dae3cac4-dce4-46c3-ba75-7ff23cc27149",
   "metadata": {},
   "outputs": [
    {
     "name": "stdout",
     "output_type": "stream",
     "text": [
      "ritik 101 saket trainer True\n"
     ]
    }
   ],
   "source": [
    "print(\"ritik\",101,\"saket\",\"trainer\",True)"
   ]
  },
  {
   "cell_type": "code",
   "execution_count": 78,
   "id": "5ad86be6-2dd9-426f-8f3c-2312cce0477d",
   "metadata": {},
   "outputs": [
    {
     "name": "stdin",
     "output_type": "stream",
     "text": [
      "enter the name  Ritik\n",
      "Enter the id 56\n"
     ]
    }
   ],
   "source": [
    "name=input(\"enter the name \")\n",
    "id1=int(input(\"Enter the id\"))"
   ]
  },
  {
   "cell_type": "code",
   "execution_count": 79,
   "id": "66c31bbf-d46c-400f-a63c-05663f46b28a",
   "metadata": {},
   "outputs": [
    {
     "data": {
      "text/plain": [
       "'Ritik'"
      ]
     },
     "execution_count": 79,
     "metadata": {},
     "output_type": "execute_result"
    }
   ],
   "source": [
    "name"
   ]
  },
  {
   "cell_type": "code",
   "execution_count": 80,
   "id": "5a0d7253-56f3-47e6-8b5b-be8330cdf3a5",
   "metadata": {},
   "outputs": [
    {
     "data": {
      "text/plain": [
       "56"
      ]
     },
     "execution_count": 80,
     "metadata": {},
     "output_type": "execute_result"
    }
   ],
   "source": [
    "id1"
   ]
  },
  {
   "cell_type": "code",
   "execution_count": 81,
   "id": "a6c2170e-b440-4cb0-b205-a6b626854253",
   "metadata": {},
   "outputs": [
    {
     "name": "stdout",
     "output_type": "stream",
     "text": [
      "Ritik 56\n"
     ]
    }
   ],
   "source": [
    "print(name,id1)"
   ]
  },
  {
   "cell_type": "code",
   "execution_count": 82,
   "id": "02745bbb-7ff3-4ede-8d3c-38438b1f2da4",
   "metadata": {},
   "outputs": [
    {
     "name": "stdout",
     "output_type": "stream",
     "text": [
      "name\n"
     ]
    }
   ],
   "source": [
    "print(\"name\")"
   ]
  },
  {
   "cell_type": "code",
   "execution_count": 83,
   "id": "d01b43e8-b75e-4c54-a396-7546e7beb1f3",
   "metadata": {},
   "outputs": [],
   "source": [
    "# sep :"
   ]
  },
  {
   "cell_type": "code",
   "execution_count": 84,
   "id": "3947ec6e-89a8-443b-8507-a5479f1370d8",
   "metadata": {},
   "outputs": [
    {
     "name": "stdout",
     "output_type": "stream",
     "text": [
      "helo hi 123 python\n"
     ]
    }
   ],
   "source": [
    "print(\"helo\",\"hi\",123,\"python\")"
   ]
  },
  {
   "cell_type": "code",
   "execution_count": 85,
   "id": "20854617-118a-4311-86b0-79bdf718ff89",
   "metadata": {},
   "outputs": [
    {
     "name": "stdout",
     "output_type": "stream",
     "text": [
      "helo-hi-123-python\n"
     ]
    }
   ],
   "source": [
    "print(\"helo\",\"hi\",123,\"python\",sep=\"-\")"
   ]
  },
  {
   "cell_type": "markdown",
   "id": "cd97285f-12e7-4e7f-8d2b-77efe8d83738",
   "metadata": {},
   "source": [
    "# end "
   ]
  },
  {
   "cell_type": "code",
   "execution_count": 86,
   "id": "a3814b31-36cb-43a6-825e-2fbf3b999c20",
   "metadata": {},
   "outputs": [
    {
     "name": "stdout",
     "output_type": "stream",
     "text": [
      "hi how are you-----------------------------jai 1245 python*******************helozzzzzzzzzz\n"
     ]
    }
   ],
   "source": [
    "print(\"hi\",\"how are you\",end=\"-----------------------------\")\n",
    "print(\"jai\",1245,\"python\",end=\"*******************\")\n",
    "print(\"helozzzzzzzzzz\")"
   ]
  },
  {
   "cell_type": "markdown",
   "id": "c52e93ce-59e6-4064-bd37-9e6fca936ab1",
   "metadata": {},
   "source": [
    "# Operators\r",
    "- arithmetic\n",
    "- relational\n",
    "- logical\n",
    "- shorthand\n",
    "- bitwise\n",
    "- special operator\n",
    "  - membership\n",
    "  - identitydentity"
   ]
  },
  {
   "cell_type": "code",
   "execution_count": 87,
   "id": "32d5da28-bf19-4e9e-b0f2-0a941273f7f1",
   "metadata": {},
   "outputs": [
    {
     "name": "stdin",
     "output_type": "stream",
     "text": [
      "enter the first number 4\n",
      "enter the second number 2\n"
     ]
    },
    {
     "name": "stdout",
     "output_type": "stream",
     "text": [
      "the sum of 4 and 2 is 6\n",
      "the sub of 4 and 2 is 2\n",
      "the mult of 4 and 2 is 8\n",
      "the div of 4 and 2 is 6\n",
      "the mod of 4 and 2 is 6\n",
      "the floor divison of 4 and 2 is 6\n",
      "the sum of 4 and 2 is 6\n",
      "the sum of 4 and 2 is 6\n"
     ]
    }
   ],
   "source": [
    "num1 = int(input(\"enter the first number\"))\n",
    "num2 = int(input(\"enter the second number\"))\n",
    "print(\"the sum of\",num1,\"and\",num2,\"is\",num1+num2)\n",
    "print(\"the sub of\",num1,\"and\",num2,\"is\",num1-num2)\n",
    "print(\"the mult of\",num1,\"and\",num2,\"is\",num1*num2)\n",
    "print(\"the div of\",num1,\"and\",num2,\"is\",num1+num2)\n",
    "print(\"the mod of\",num1,\"and\",num2,\"is\",num1+num2)\n",
    "print(\"the floor divison of\",num1,\"and\",num2,\"is\",num1+num2)\n",
    "print(\"the sum of\",num1,\"and\",num2,\"is\",num1+num2)\n",
    "print(\"the sum of\",num1,\"and\",num2,\"is\",num1+num2)"
   ]
  },
  {
   "cell_type": "markdown",
   "id": "759dc396-b091-47c2-9e77-40fd9b834841",
   "metadata": {},
   "source": [
    "## relational"
   ]
  },
  {
   "cell_type": "code",
   "execution_count": 88,
   "id": "e8f2e74a-0d63-4a71-b586-8e316d008649",
   "metadata": {},
   "outputs": [
    {
     "name": "stdin",
     "output_type": "stream",
     "text": [
      "enter the first number 23\n",
      "enter the second number 7\n"
     ]
    },
    {
     "name": "stdout",
     "output_type": "stream",
     "text": [
      "the result of 23 == 7 is False\n",
      "the result of 23 != 7 is True\n",
      "the result of 23 > 7 is True\n",
      "the result of 23 >= 7 is True\n",
      "the result of 23 < 7 is False\n",
      "the result of 23 <= 7 is False\n"
     ]
    }
   ],
   "source": [
    "num1 = int(input(\"enter the first number\"))\n",
    "num2 = int(input(\"enter the second number\"))\n",
    "print(\"the result of\",num1,\"==\",num2,\"is\",num1==num2)\n",
    "print(\"the result of\",num1,\"!=\",num2,\"is\",num1!=num2)\n",
    "print(\"the result of\",num1,\">\",num2,\"is\",num1>num2)\n",
    "print(\"the result of\",num1,\">=\",num2,\"is\",num1>=num2)\n",
    "print(\"the result of\",num1,\"<\",num2,\"is\",num1<num2)\n",
    "print(\"the result of\",num1,\"<=\",num2,\"is\",num1<=num2)"
   ]
  },
  {
   "cell_type": "markdown",
   "id": "71635a26-976b-4539-9872-8671acfc2201",
   "metadata": {},
   "source": [
    "## logical\n",
    "- and\n",
    "- or\n",
    "- not"
   ]
  },
  {
   "cell_type": "markdown",
   "id": "4cff8add-cf4d-409e-ad08-9abe651faf80",
   "metadata": {},
   "source": [
    "# or"
   ]
  },
  {
   "cell_type": "code",
   "execution_count": 89,
   "id": "74868bad-155b-4870-b048-4d85b279e82f",
   "metadata": {},
   "outputs": [
    {
     "name": "stdout",
     "output_type": "stream",
     "text": [
      "True or True is True\n",
      "True or False is True\n",
      "False or True is True\n",
      "False or False is False\n"
     ]
    }
   ],
   "source": [
    "print(\"True or True is\",True or True)\n",
    "print(\"True or False is\",True or False)\n",
    "print(\"False or True is\",False or True)\n",
    "print(\"False or False is\",False or False)"
   ]
  },
  {
   "cell_type": "markdown",
   "id": "c326ad02-690f-4548-aa89-a1a0a782a3e9",
   "metadata": {},
   "source": [
    "## and"
   ]
  },
  {
   "cell_type": "code",
   "execution_count": 90,
   "id": "12fce149-41a4-4cd3-804c-5b2460f8213b",
   "metadata": {},
   "outputs": [
    {
     "name": "stdout",
     "output_type": "stream",
     "text": [
      "True and True is True\n",
      "True and False is False\n",
      "False and True is False\n",
      "False and False is False\n"
     ]
    }
   ],
   "source": [
    "print(\"True and True is\",True and True)\n",
    "print(\"True and False is\",True and False)\n",
    "print(\"False and True is\",False and True)\n",
    "print(\"False and False is\",False and False)"
   ]
  },
  {
   "cell_type": "code",
   "execution_count": 92,
   "id": "06d292d8-74c4-4cf3-b877-2050857524d3",
   "metadata": {},
   "outputs": [
    {
     "data": {
      "text/plain": [
       "False"
      ]
     },
     "execution_count": 92,
     "metadata": {},
     "output_type": "execute_result"
    }
   ],
   "source": [
    "not(True)"
   ]
  },
  {
   "cell_type": "code",
   "execution_count": 93,
   "id": "6ae08979-0314-4bae-b2d2-f5d0add99911",
   "metadata": {},
   "outputs": [
    {
     "data": {
      "text/plain": [
       "True"
      ]
     },
     "execution_count": 93,
     "metadata": {},
     "output_type": "execute_result"
    }
   ],
   "source": [
    "not(False)"
   ]
  },
  {
   "cell_type": "code",
   "execution_count": 94,
   "id": "f31a3f2f-e3a2-4320-88e4-2837440e0bd8",
   "metadata": {},
   "outputs": [
    {
     "data": {
      "text/plain": [
       "45"
      ]
     },
     "execution_count": 94,
     "metadata": {},
     "output_type": "execute_result"
    }
   ],
   "source": [
    "45 or 67"
   ]
  },
  {
   "cell_type": "code",
   "execution_count": 95,
   "id": "61b1c549-5231-46a9-ae3e-ba70a0323e3a",
   "metadata": {},
   "outputs": [
    {
     "data": {
      "text/plain": [
       "56"
      ]
     },
     "execution_count": 95,
     "metadata": {},
     "output_type": "execute_result"
    }
   ],
   "source": [
    "0 or 56"
   ]
  },
  {
   "cell_type": "code",
   "execution_count": 96,
   "id": "45deb29a-8726-4ff3-b952-70fe1500c07a",
   "metadata": {},
   "outputs": [
    {
     "data": {
      "text/plain": [
       "56"
      ]
     },
     "execution_count": 96,
     "metadata": {},
     "output_type": "execute_result"
    }
   ],
   "source": [
    "78 and 56"
   ]
  },
  {
   "cell_type": "code",
   "execution_count": 97,
   "id": "20c40a96-69a2-41c6-8dbc-1392d2158770",
   "metadata": {},
   "outputs": [
    {
     "data": {
      "text/plain": [
       "0"
      ]
     },
     "execution_count": 97,
     "metadata": {},
     "output_type": "execute_result"
    }
   ],
   "source": [
    "0 and 0"
   ]
  },
  {
   "cell_type": "code",
   "execution_count": 98,
   "id": "b5ea37a0-97c6-4515-95aa-4c099baf6941",
   "metadata": {},
   "outputs": [
    {
     "data": {
      "text/plain": [
       "0"
      ]
     },
     "execution_count": 98,
     "metadata": {},
     "output_type": "execute_result"
    }
   ],
   "source": [
    "0 and 89"
   ]
  },
  {
   "cell_type": "code",
   "execution_count": 99,
   "id": "daaf976d-6019-4945-9f56-5cb0623274a1",
   "metadata": {},
   "outputs": [
    {
     "data": {
      "text/plain": [
       "False"
      ]
     },
     "execution_count": 99,
     "metadata": {},
     "output_type": "execute_result"
    }
   ],
   "source": [
    "not(89)"
   ]
  },
  {
   "cell_type": "markdown",
   "id": "79c558be-ce3b-40d1-af4a-61071aad8010",
   "metadata": {},
   "source": [
    "## shorthand"
   ]
  },
  {
   "cell_type": "code",
   "execution_count": 100,
   "id": "f43eb274-8ac4-4be4-a7f2-fb6766de195d",
   "metadata": {},
   "outputs": [
    {
     "name": "stdout",
     "output_type": "stream",
     "text": [
      "3\n"
     ]
    },
    {
     "data": {
      "text/plain": [
       "2"
      ]
     },
     "execution_count": 100,
     "metadata": {},
     "output_type": "execute_result"
    }
   ],
   "source": [
    "a = 1\n",
    "b = 2\n",
    "a += b  #expanded form a=a+b\n",
    "print(a)\n",
    "b"
   ]
  },
  {
   "cell_type": "markdown",
   "id": "523a2ba6-9ff8-4018-962e-c88c952e75ee",
   "metadata": {},
   "source": [
    "## bitwise: not required"
   ]
  },
  {
   "cell_type": "code",
   "execution_count": null,
   "id": "ec2c8d9a-f1bd-4a58-8853-c3e3ac5fc43f",
   "metadata": {},
   "outputs": [],
   "source": [
    "# special:"
   ]
  },
  {
   "cell_type": "markdown",
   "id": "fd6d71f9-1da0-4cfd-8b0c-f2b7208a1686",
   "metadata": {},
   "source": [
    "# membership\n",
    "- in\n",
    "- not in"
   ]
  },
  {
   "cell_type": "code",
   "execution_count": 101,
   "id": "6def6089-9ca5-497b-9211-ce06b1db469d",
   "metadata": {},
   "outputs": [
    {
     "data": {
      "text/plain": [
       "True"
      ]
     },
     "execution_count": 101,
     "metadata": {},
     "output_type": "execute_result"
    }
   ],
   "source": [
    "\"d\" in \"madrid\""
   ]
  },
  {
   "cell_type": "code",
   "execution_count": 102,
   "id": "ba54ed8d-dc9b-47bc-b2c6-f14a8dbf1e32",
   "metadata": {},
   "outputs": [
    {
     "data": {
      "text/plain": [
       "False"
      ]
     },
     "execution_count": 102,
     "metadata": {},
     "output_type": "execute_result"
    }
   ],
   "source": [
    "\"d\" not in \"madrid\""
   ]
  },
  {
   "cell_type": "code",
   "execution_count": 103,
   "id": "1111be09-81b1-4033-8249-59a7e03704f0",
   "metadata": {},
   "outputs": [
    {
     "data": {
      "text/plain": [
       "True"
      ]
     },
     "execution_count": 103,
     "metadata": {},
     "output_type": "execute_result"
    }
   ],
   "source": [
    "\"mad\" in \"madrid\""
   ]
  },
  {
   "cell_type": "code",
   "execution_count": 104,
   "id": "642b7600-24aa-449f-b571-2d2fcac17268",
   "metadata": {},
   "outputs": [
    {
     "data": {
      "text/plain": [
       "False"
      ]
     },
     "execution_count": 104,
     "metadata": {},
     "output_type": "execute_result"
    }
   ],
   "source": [
    "\"mdr\" in \"madrid\""
   ]
  },
  {
   "cell_type": "code",
   "execution_count": 105,
   "id": "d9bc40c4-965a-42e4-8767-7bec46c2f587",
   "metadata": {},
   "outputs": [
    {
     "data": {
      "text/plain": [
       "[12, 'python', '14578', 'madrid', 578]"
      ]
     },
     "execution_count": 105,
     "metadata": {},
     "output_type": "execute_result"
    }
   ],
   "source": [
    "l = [12, \"python\", \"14578\", \"madrid\", 578]\n",
    "l"
   ]
  },
  {
   "cell_type": "code",
   "execution_count": 106,
   "id": "5f22a059-5715-40aa-8435-ef92f2fdd7dc",
   "metadata": {},
   "outputs": [
    {
     "data": {
      "text/plain": [
       "False"
      ]
     },
     "execution_count": 106,
     "metadata": {},
     "output_type": "execute_result"
    }
   ],
   "source": [
    "\"mad\" in l"
   ]
  },
  {
   "cell_type": "code",
   "execution_count": 107,
   "id": "d795e70a-9279-4950-9436-627b27d556c9",
   "metadata": {},
   "outputs": [
    {
     "data": {
      "text/plain": [
       "False"
      ]
     },
     "execution_count": 107,
     "metadata": {},
     "output_type": "execute_result"
    }
   ],
   "source": [
    "\"12\" in [12, \"python\", \"14578\", \"madrid\", 578]"
   ]
  },
  {
   "cell_type": "code",
   "execution_count": 109,
   "id": "f471ed39-e04e-49fe-a833-f4a9761735b2",
   "metadata": {},
   "outputs": [
    {
     "data": {
      "text/plain": [
       "False"
      ]
     },
     "execution_count": 109,
     "metadata": {},
     "output_type": "execute_result"
    }
   ],
   "source": [
    "\"21\" in \"123\""
   ]
  },
  {
   "cell_type": "markdown",
   "id": "dce90d4e-2576-4aa2-8a83-941317d95e8c",
   "metadata": {},
   "source": [
    "## identity operator\n",
    "- is\n",
    "- is not"
   ]
  },
  {
   "cell_type": "code",
   "execution_count": 111,
   "id": "374922f5-6717-4272-b9a5-4cce4ef93e8d",
   "metadata": {},
   "outputs": [
    {
     "name": "stdout",
     "output_type": "stream",
     "text": [
      "140710070439496\n",
      "140710070436904\n"
     ]
    },
    {
     "data": {
      "text/plain": [
       "False"
      ]
     },
     "execution_count": 111,
     "metadata": {},
     "output_type": "execute_result"
    }
   ],
   "source": [
    "a= 90\n",
    "b=9\n",
    "print(id(a))\n",
    "print(id(b))\n",
    "a is b"
   ]
  },
  {
   "cell_type": "code",
   "execution_count": 112,
   "id": "ec7a8f12-7541-4e8d-8044-d7e33568256d",
   "metadata": {},
   "outputs": [
    {
     "name": "stdout",
     "output_type": "stream",
     "text": [
      "140710070439496\n",
      "140710070439496\n"
     ]
    },
    {
     "data": {
      "text/plain": [
       "True"
      ]
     },
     "execution_count": 112,
     "metadata": {},
     "output_type": "execute_result"
    }
   ],
   "source": [
    "a=90\n",
    "b=a\n",
    "print(id(a))\n",
    "print(id(b))\n",
    "a is b"
   ]
  },
  {
   "cell_type": "code",
   "execution_count": 113,
   "id": "5e3e90a4-4ffa-4970-a1db-a0d7fcd808de",
   "metadata": {},
   "outputs": [],
   "source": [
    "# operators precedence"
   ]
  },
  {
   "cell_type": "code",
   "execution_count": 114,
   "id": "330e9c9d-5c7a-45c6-93b3-6036f2fa7ed4",
   "metadata": {},
   "outputs": [],
   "source": [
    "#2+3*4/2<5**2"
   ]
  },
  {
   "cell_type": "markdown",
   "id": "7b6fcf77-d02c-4815-868b-02bfad19b875",
   "metadata": {},
   "source": [
    "https://www.geeksforgeeks.org/precedence-and-associativity-of-operators-in-python/"
   ]
  },
  {
   "cell_type": "markdown",
   "id": "f8f1ac06-252a-40a1-9ecb-81fa1b0c0f77",
   "metadata": {},
   "source": [
    "# escape sequence\n",
    "## these are special characters which have their own meaning when they come as part of string they dont consider themselves as characters as they as rather they processsed differently"
   ]
  },
  {
   "cell_type": "markdown",
   "id": "000129d6-fa22-45d7-8a98-83511d66b105",
   "metadata": {},
   "source": [
    "# \\n : new line"
   ]
  },
  {
   "cell_type": "code",
   "execution_count": 116,
   "id": "500b46e1-e597-48e8-ac7f-0f4683416db9",
   "metadata": {},
   "outputs": [
    {
     "name": "stdout",
     "output_type": "stream",
     "text": [
      "balmeet\n",
      "kaur\n"
     ]
    }
   ],
   "source": [
    "print(\"balmeet\\nkaur\")"
   ]
  },
  {
   "cell_type": "code",
   "execution_count": 117,
   "id": "a645e2b8-c6d8-4440-a02c-a62f73ed4977",
   "metadata": {},
   "outputs": [
    {
     "name": "stdout",
     "output_type": "stream",
     "text": [
      "balmeet/nkaur\n"
     ]
    }
   ],
   "source": [
    "print(\"balmeet/nkaur\")"
   ]
  },
  {
   "cell_type": "code",
   "execution_count": 118,
   "id": "667d8323-912c-419b-89b9-5aa23721ac24",
   "metadata": {},
   "outputs": [],
   "source": [
    "## task: print balmeet\\nkaur"
   ]
  },
  {
   "cell_type": "code",
   "execution_count": 119,
   "id": "b3f2ac61-c1e9-43d4-bcc6-820418a63cc0",
   "metadata": {},
   "outputs": [
    {
     "name": "stdout",
     "output_type": "stream",
     "text": [
      "balmeet\\nkaur\n"
     ]
    }
   ],
   "source": [
    "print(\"balmeet\\\\nkaur\")"
   ]
  },
  {
   "cell_type": "code",
   "execution_count": 121,
   "id": "f8e32360-c258-4535-9fa2-aab283125bbb",
   "metadata": {},
   "outputs": [],
   "source": [
    "#task : hi how'r u"
   ]
  },
  {
   "cell_type": "code",
   "execution_count": 122,
   "id": "746cf215-3626-4a29-b021-6d7723742f21",
   "metadata": {},
   "outputs": [
    {
     "name": "stdout",
     "output_type": "stream",
     "text": [
      "hi how'r u\n"
     ]
    }
   ],
   "source": [
    "print('hi how\\'r u')"
   ]
  },
  {
   "cell_type": "code",
   "execution_count": 123,
   "id": "e79c6319-3c94-4f64-8e05-e8959563e8ee",
   "metadata": {},
   "outputs": [],
   "source": [
    "# \\t: tab"
   ]
  },
  {
   "cell_type": "code",
   "execution_count": 124,
   "id": "cbd68447-f34c-47bd-86b0-73ce12d5a529",
   "metadata": {},
   "outputs": [
    {
     "name": "stdout",
     "output_type": "stream",
     "text": [
      "balmeet\tkaur\n"
     ]
    }
   ],
   "source": [
    "print(\"balmeet\\tkaur\")"
   ]
  },
  {
   "cell_type": "code",
   "execution_count": 126,
   "id": "4a4fb063-ca13-4c21-a25f-1c69ac3e604d",
   "metadata": {},
   "outputs": [],
   "source": [
    "# \\b: will do one backspace"
   ]
  },
  {
   "cell_type": "code",
   "execution_count": 127,
   "id": "c1ac0882-d3b3-4c20-a8d9-57f1250a2f66",
   "metadata": {},
   "outputs": [
    {
     "name": "stdout",
     "output_type": "stream",
     "text": [
      "balmeekaur\n"
     ]
    }
   ],
   "source": [
    "print(\"balmeet\\bkaur\")"
   ]
  },
  {
   "cell_type": "code",
   "execution_count": null,
   "id": "f1c814fe-b162-4208-ab2d-7943ae7b1b4b",
   "metadata": {},
   "outputs": [],
   "source": []
  }
 ],
 "metadata": {
  "kernelspec": {
   "display_name": "Python 3 (ipykernel)",
   "language": "python",
   "name": "python3"
  },
  "language_info": {
   "codemirror_mode": {
    "name": "ipython",
    "version": 3
   },
   "file_extension": ".py",
   "mimetype": "text/x-python",
   "name": "python",
   "nbconvert_exporter": "python",
   "pygments_lexer": "ipython3",
   "version": "3.11.7"
  }
 },
 "nbformat": 4,
 "nbformat_minor": 5
}
